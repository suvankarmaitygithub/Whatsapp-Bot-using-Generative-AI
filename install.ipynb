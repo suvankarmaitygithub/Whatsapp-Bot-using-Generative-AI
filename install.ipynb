{
 "cells": [
  {
   "cell_type": "code",
   "execution_count": 1,
   "metadata": {},
   "outputs": [
    {
     "name": "stdout",
     "output_type": "stream",
     "text": [
      "Defaulting to user installation because normal site-packages is not writeable\n",
      "Requirement already satisfied: python-dotenv in /Users/suvankarmaity/Library/Python/3.9/lib/python/site-packages (1.0.1)\n",
      "Note: you may need to restart the kernel to use updated packages.\n"
     ]
    }
   ],
   "source": [
    "pip install python-dotenv"
   ]
  },
  {
   "cell_type": "code",
   "execution_count": 2,
   "metadata": {},
   "outputs": [
    {
     "name": "stdout",
     "output_type": "stream",
     "text": [
      "Defaulting to user installation because normal site-packages is not writeable\n",
      "Collecting Twilio\n",
      "  Downloading twilio-9.1.0-py2.py3-none-any.whl.metadata (12 kB)\n",
      "Requirement already satisfied: requests>=2.0.0 in /Users/suvankarmaity/Library/Python/3.9/lib/python/site-packages (from Twilio) (2.31.0)\n",
      "Requirement already satisfied: PyJWT<3.0.0,>=2.0.0 in /Users/suvankarmaity/Library/Python/3.9/lib/python/site-packages (from Twilio) (2.8.0)\n",
      "Requirement already satisfied: aiohttp>=3.8.4 in /Users/suvankarmaity/Library/Python/3.9/lib/python/site-packages (from Twilio) (3.9.3)\n",
      "Collecting aiohttp-retry>=2.8.3 (from Twilio)\n",
      "  Downloading aiohttp_retry-2.8.3-py3-none-any.whl.metadata (8.9 kB)\n",
      "Requirement already satisfied: aiosignal>=1.1.2 in /Users/suvankarmaity/Library/Python/3.9/lib/python/site-packages (from aiohttp>=3.8.4->Twilio) (1.3.1)\n",
      "Requirement already satisfied: attrs>=17.3.0 in /Users/suvankarmaity/Library/Python/3.9/lib/python/site-packages (from aiohttp>=3.8.4->Twilio) (23.2.0)\n",
      "Requirement already satisfied: frozenlist>=1.1.1 in /Users/suvankarmaity/Library/Python/3.9/lib/python/site-packages (from aiohttp>=3.8.4->Twilio) (1.4.1)\n",
      "Requirement already satisfied: multidict<7.0,>=4.5 in /Users/suvankarmaity/Library/Python/3.9/lib/python/site-packages (from aiohttp>=3.8.4->Twilio) (6.0.5)\n",
      "Requirement already satisfied: yarl<2.0,>=1.0 in /Users/suvankarmaity/Library/Python/3.9/lib/python/site-packages (from aiohttp>=3.8.4->Twilio) (1.9.4)\n",
      "Requirement already satisfied: async-timeout<5.0,>=4.0 in /Users/suvankarmaity/Library/Python/3.9/lib/python/site-packages (from aiohttp>=3.8.4->Twilio) (4.0.3)\n",
      "Requirement already satisfied: charset-normalizer<4,>=2 in /Users/suvankarmaity/Library/Python/3.9/lib/python/site-packages (from requests>=2.0.0->Twilio) (3.3.2)\n",
      "Requirement already satisfied: idna<4,>=2.5 in /Users/suvankarmaity/Library/Python/3.9/lib/python/site-packages (from requests>=2.0.0->Twilio) (3.6)\n",
      "Requirement already satisfied: urllib3<3,>=1.21.1 in /Users/suvankarmaity/Library/Python/3.9/lib/python/site-packages (from requests>=2.0.0->Twilio) (2.1.0)\n",
      "Requirement already satisfied: certifi>=2017.4.17 in /Users/suvankarmaity/Library/Python/3.9/lib/python/site-packages (from requests>=2.0.0->Twilio) (2023.11.17)\n",
      "Downloading twilio-9.1.0-py2.py3-none-any.whl (1.7 MB)\n",
      "\u001b[2K   \u001b[90m━━━━━━━━━━━━━━━━━━━━━━━━━━━━━━━━━━━━━━━━\u001b[0m \u001b[32m1.7/1.7 MB\u001b[0m \u001b[31m5.0 MB/s\u001b[0m eta \u001b[36m0:00:00\u001b[0m00:01\u001b[0m00:01\u001b[0m\n",
      "\u001b[?25hDownloading aiohttp_retry-2.8.3-py3-none-any.whl (9.8 kB)\n",
      "Installing collected packages: aiohttp-retry, Twilio\n",
      "Successfully installed Twilio-9.1.0 aiohttp-retry-2.8.3\n",
      "Note: you may need to restart the kernel to use updated packages.\n"
     ]
    }
   ],
   "source": [
    "pip install Twilio"
   ]
  },
  {
   "cell_type": "code",
   "execution_count": 3,
   "metadata": {},
   "outputs": [
    {
     "name": "stdout",
     "output_type": "stream",
     "text": [
      "Defaulting to user installation because normal site-packages is not writeable\n",
      "Requirement already satisfied: Flask in /Users/suvankarmaity/Library/Python/3.9/lib/python/site-packages (2.2.5)\n",
      "Requirement already satisfied: Werkzeug>=2.2.2 in /Users/suvankarmaity/Library/Python/3.9/lib/python/site-packages (from Flask) (3.0.1)\n",
      "Requirement already satisfied: Jinja2>=3.0 in /Users/suvankarmaity/Library/Python/3.9/lib/python/site-packages (from Flask) (3.1.3)\n",
      "Requirement already satisfied: itsdangerous>=2.0 in /Users/suvankarmaity/Library/Python/3.9/lib/python/site-packages (from Flask) (2.1.2)\n",
      "Requirement already satisfied: click>=8.0 in /Users/suvankarmaity/Library/Python/3.9/lib/python/site-packages (from Flask) (8.1.7)\n",
      "Requirement already satisfied: importlib-metadata>=3.6.0 in /Users/suvankarmaity/Library/Python/3.9/lib/python/site-packages (from Flask) (7.0.1)\n",
      "Requirement already satisfied: zipp>=0.5 in /Users/suvankarmaity/Library/Python/3.9/lib/python/site-packages (from importlib-metadata>=3.6.0->Flask) (3.17.0)\n",
      "Requirement already satisfied: MarkupSafe>=2.0 in /Users/suvankarmaity/Library/Python/3.9/lib/python/site-packages (from Jinja2>=3.0->Flask) (2.1.3)\n",
      "Note: you may need to restart the kernel to use updated packages.\n"
     ]
    }
   ],
   "source": [
    "pip install Flask"
   ]
  },
  {
   "cell_type": "code",
   "execution_count": 9,
   "metadata": {},
   "outputs": [
    {
     "name": "stdout",
     "output_type": "stream",
     "text": [
      "Defaulting to user installation because normal site-packages is not writeable\n",
      "Requirement already satisfied: urllib3 in /Users/suvankarmaity/Library/Python/3.9/lib/python/site-packages (2.1.0)\n"
     ]
    }
   ],
   "source": [
    "!pip install urllib3\n",
    "\n"
   ]
  },
  {
   "cell_type": "code",
   "execution_count": null,
   "metadata": {},
   "outputs": [],
   "source": []
  }
 ],
 "metadata": {
  "kernelspec": {
   "display_name": "Python 3",
   "language": "python",
   "name": "python3"
  },
  "language_info": {
   "codemirror_mode": {
    "name": "ipython",
    "version": 3
   },
   "file_extension": ".py",
   "mimetype": "text/x-python",
   "name": "python",
   "nbconvert_exporter": "python",
   "pygments_lexer": "ipython3",
   "version": "3.9.6"
  }
 },
 "nbformat": 4,
 "nbformat_minor": 2
}
